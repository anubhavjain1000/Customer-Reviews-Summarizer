{
 "cells": [
  {
   "cell_type": "code",
   "execution_count": null,
   "id": "2512966b-7f2c-464b-b957-c23482a37d5a",
   "metadata": {},
   "outputs": [],
   "source": []
  },
  {
   "cell_type": "code",
   "execution_count": null,
   "id": "5e625e02-8da7-470a-81e3-5d04c2701191",
   "metadata": {},
   "outputs": [],
   "source": [
    "import pandas as pd\n",
    "import torch\n",
    "from transformers import T5ForConditionalGeneration, T5Tokenizer\n",
    "from sklearn.model_selection import train_test_split\n",
    "from datasets import load_metric"
   ]
  },
  {
   "cell_type": "code",
   "execution_count": null,
   "id": "8c20c63a-3521-421d-8bcf-dfba261ba00b",
   "metadata": {},
   "outputs": [],
   "source": []
  },
  {
   "cell_type": "code",
   "execution_count": 3,
   "id": "1112ddbf-4e1d-4c6f-bad1-34d8311718e2",
   "metadata": {},
   "outputs": [],
   "source": [
    "# Step 1: Load the Dataset\n",
    "data_path = 'Womens Clothing E-Commerce Reviews.csv'\n",
    "data = pd.read_csv(data_path)"
   ]
  },
  {
   "cell_type": "code",
   "execution_count": null,
   "id": "71f80ef0-c275-4e58-8864-a0d116274e54",
   "metadata": {},
   "outputs": [],
   "source": []
  },
  {
   "cell_type": "code",
   "execution_count": null,
   "id": "d8607dde-5a74-4a5b-b30e-b427ccf05f98",
   "metadata": {},
   "outputs": [],
   "source": [
    "# Step 2: Preprocess Data\n",
    "# Drop missing values\n",
    "data = data.dropna(subset=['Review Text'])\n",
    "reviews = data['Review Text'].tolist()"
   ]
  },
  {
   "cell_type": "code",
   "execution_count": null,
   "id": "e038d130-1b4b-43b8-bece-40565e5da258",
   "metadata": {},
   "outputs": [],
   "source": []
  },
  {
   "cell_type": "code",
   "execution_count": null,
   "id": "c1bac46c-8e27-4165-aa8b-398bf84ed0d0",
   "metadata": {},
   "outputs": [],
   "source": [
    "# Step 3: Split Data into Train and Test sets\n",
    "train_texts, test_texts = train_test_split(reviews, test_size=0.1, random_state=42)\n",
    "\n",
    "# Step 4: Initialize the T5 Model and Tokenizer\n",
    "model_name = \"t5-large\"  # Using the larger T5 model for better performance\n",
    "tokenizer = T5Tokenizer.from_pretrained(model_name)\n",
    "model = T5ForConditionalGeneration.from_pretrained(model_name)"
   ]
  },
  {
   "cell_type": "code",
   "execution_count": null,
   "id": "3c30ee26-1eb5-4f9d-9b8d-6840256e12f0",
   "metadata": {},
   "outputs": [],
   "source": []
  },
  {
   "cell_type": "code",
   "execution_count": null,
   "id": "80657df2-ba81-42f1-a810-d3e37e34604e",
   "metadata": {},
   "outputs": [],
   "source": [
    "# Step 5: Define a Function to Summarize Text\n",
    "def summarize_text(text, max_length=50):\n",
    "    input_text = \"summarize: \" + text\n",
    "    input_ids = tokenizer.encode(input_text, return_tensors=\"pt\", max_length=512, truncation=True)\n",
    "\n",
    "    summary_ids = model.generate(input_ids, max_length=max_length, min_length=20, length_penalty=2.0, num_beams=4, early_stopping=True)\n",
    "    summary = tokenizer.decode(summary_ids[0], skip_special_tokens=True)\n",
    "    return summary"
   ]
  },
  {
   "cell_type": "code",
   "execution_count": null,
   "id": "65f113cd-43d9-4853-8fe6-a7d255870c93",
   "metadata": {},
   "outputs": [],
   "source": [
    "# Step 6: Summarize the Training Data\n",
    "train_summaries = [summarize_text(text) for text in train_texts[:100]]  # Summarizing first 100 reviews for demonstration\n",
    "\n",
    "# Optional Step 7: Evaluate Summarization Performance using ROUGE\n",
    "rouge = load_metric(\"rouge\")\n",
    "\n",
    "def evaluate_summaries(references, predictions):\n",
    "    scores = rouge.compute(predictions=predictions, references=references)\n",
    "    return scores\n",
    "\n",
    "# Prepare data for evaluation (only if ground truth summaries are available)\n",
    "# For this example, we're using original text as a reference which isn't ideal. Ideally, you should have ground-truth summaries.\n",
    "references = train_texts[:100]\n",
    "predictions = train_summaries\n",
    "\n",
    "# Evaluate\n",
    "scores = evaluate_summaries(references, predictions)\n",
    "print(scores)"
   ]
  },
  {
   "cell_type": "code",
   "execution_count": null,
   "id": "403a8dc4-3cf6-4d53-b879-b42ee71b8d4f",
   "metadata": {},
   "outputs": [],
   "source": [
    "# Step 8: Summarize the Test Data (This is the final output of the project)\n",
    "test_summaries = [summarize_text(text) for text in test_texts[:10]]  # Summarizing first 10 test reviews\n",
    "\n",
    "# Output the Test Summaries\n",
    "for i, summary in enumerate(test_summaries):\n",
    "    print(f\"Review {i+1} Summary: {summary}\\n\")"
   ]
  },
  {
   "cell_type": "code",
   "execution_count": null,
   "id": "a63eeefd-596e-4759-99b2-49f2b90d805d",
   "metadata": {},
   "outputs": [],
   "source": [
    "test_summaries.to_csv('summarized_reviews.csv', index=False)\n"
   ]
  },
  {
   "cell_type": "code",
   "execution_count": null,
   "id": "2fd9cfbd-db89-48fa-b79e-e75704a3eb5c",
   "metadata": {},
   "outputs": [],
   "source": []
  }
 ],
 "metadata": {
  "kernelspec": {
   "display_name": "Python 3 (ipykernel)",
   "language": "python",
   "name": "python3"
  },
  "language_info": {
   "codemirror_mode": {
    "name": "ipython",
    "version": 3
   },
   "file_extension": ".py",
   "mimetype": "text/x-python",
   "name": "python",
   "nbconvert_exporter": "python",
   "pygments_lexer": "ipython3",
   "version": "3.12.3"
  }
 },
 "nbformat": 4,
 "nbformat_minor": 5
}
